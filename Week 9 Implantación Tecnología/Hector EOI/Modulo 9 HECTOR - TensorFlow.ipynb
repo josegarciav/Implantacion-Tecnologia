{
 "cells": [
  {
   "cell_type": "code",
   "execution_count": 6,
   "metadata": {
    "_cell_guid": "3a672abb-a2c8-4d59-9c65-42ae2c89ac84",
    "_uuid": "098d097dea66b981144f3aaec875f1c824f57883"
   },
   "outputs": [],
   "source": [
    "import tensorflow as tf\n",
    "import pandas as pd\n",
    "import numpy as np\n",
    "import math\n",
    "import timeit\n",
    "import matplotlib.pyplot as plt\n",
    "from six.moves import cPickle as pickle\n",
    "import os\n",
    "import platform\n",
    "from subprocess import check_output\n",
    "\n",
    "\n",
    "%matplotlib inline"
   ]
  },
  {
   "cell_type": "code",
   "execution_count": 7,
   "metadata": {
    "_cell_guid": "acab539e-99ab-49f8-aaa9-9c08678494ec",
    "_uuid": "62ff7f4915898a073659a4677eb70c4a6a9e6eb4"
   },
   "outputs": [],
   "source": [
    "# Categorias de los elementos a evaluar. Retuve los nombres en ingles dado que su contraparte en espanol me daba error\n",
    "classes = ('plane', 'car', 'bird', 'cat',\n",
    "           'deer', 'dog', 'frog', 'horse', 'ship', 'truck')"
   ]
  },
  {
   "cell_type": "code",
   "execution_count": 8,
   "metadata": {
    "_cell_guid": "dbda6db8-29f1-4cff-9c48-24f35db15f0c",
    "_uuid": "79098de67d87caf443e057aba591eeb3985b7a37"
   },
   "outputs": [],
   "source": [
    "def load_pickle(f):\n",
    "    version = platform.python_version_tuple()\n",
    "    if version[0] == '2':\n",
    "        return  pickle.load(f)\n",
    "    elif version[0] == '3':\n",
    "        return  pickle.load(f, encoding='latin1')\n",
    "    raise ValueError(\"Version invalida de Python: {}\".format(version))\n",
    "\n",
    "def load_CIFAR_batch(filename):\n",
    "# Carga una SELECCION de CIFAR10\n",
    "    with open(filename, 'rb') as f:\n",
    "        datadict = load_pickle(f)\n",
    "        X = datadict['data']\n",
    "        Y = datadict['labels']\n",
    "        X = X.reshape(10000, 3, 32, 32).transpose(0,2,3,1).astype(\"float\")\n",
    "        Y = np.array(Y)\n",
    "        return X, Y\n",
    "\n",
    "def load_CIFAR10(ROOT):\n",
    "# Carga TODO CIFAR10\n",
    "    xs = []\n",
    "    ys = []\n",
    "    for b in range(1,6):\n",
    "        f = os.path.join(ROOT, 'data_batch_%d' % (b, ))\n",
    "        X, Y = load_CIFAR_batch(f)\n",
    "        xs.append(X)\n",
    "        ys.append(Y)\n",
    "    Xtr = np.concatenate(xs)\n",
    "    Ytr = np.concatenate(ys)\n",
    "    del X, Y\n",
    "    Xte, Yte = load_CIFAR_batch(os.path.join(ROOT, 'test_batch'))\n",
    "    return Xtr, Ytr, Xte, Yte"
   ]
  },
  {
   "cell_type": "code",
   "execution_count": 10,
   "metadata": {
    "_cell_guid": "0c272f85-bd27-4eeb-99a7-6fd036e99344",
    "_uuid": "53b8f7f8fb884a4c8f18350c1d4626cf198bf3fe"
   },
   "outputs": [
    {
     "name": "stdout",
     "output_type": "stream",
     "text": [
      "Train data shape:  (49000, 32, 32, 3)\n",
      "Train labels shape:  (49000,)\n",
      "Validation data shape:  (1000, 32, 32, 3)\n",
      "Validation labels shape:  (1000,)\n",
      "Test data shape:  (10000, 32, 32, 3)\n",
      "Test labels shape:  (10000,)\n"
     ]
    }
   ],
   "source": [
    "def get_CIFAR10_data(num_training=49000, num_validation=1000, num_test=10000):\n",
    "    # Carga la data desde mi PC SIN LIMPIAR. Por favor ajuste el path a su PC\n",
    "    cifar10_dir = 'C:\\\\Users\\Hector\\Documents\\EOI - Artificial Intelligence and Deep Learning\\Modulo 9 - Pytorch'\n",
    "    X_train, y_train, X_test, y_test = load_CIFAR10(cifar10_dir)\n",
    "\n",
    "    # Sub-muestra de la data\n",
    "    mask = range(num_training, num_training + num_validation)\n",
    "    X_val = X_train[mask]\n",
    "    y_val = y_train[mask]\n",
    "    mask = range(num_training)\n",
    "    X_train = X_train[mask]\n",
    "    y_train = y_train[mask]\n",
    "    mask = range(num_test)\n",
    "    X_test = X_test[mask]\n",
    "    y_test = y_test[mask]\n",
    "\n",
    "    # Normalizar la data: sustrayendo la imagen promedio\n",
    "    mean_image = np.mean(X_train, axis=0)\n",
    "    X_train -= mean_image\n",
    "    X_val -= mean_image\n",
    "    X_test -= mean_image\n",
    "\n",
    "    return X_train, y_train, X_val, y_val, X_test, y_test\n",
    "\n",
    "\n",
    "# Uso de las funciones de arriba para obtener la data. Realizo esto para verificar que ha cargado la data correctamente\n",
    "X_train, y_train, X_val, y_val, X_test, y_test = get_CIFAR10_data()\n",
    "print('Entrenamiento data shape: ', X_train.shape)\n",
    "print('Entrenamiento labels shape: ', y_train.shape)\n",
    "print('Validacion data shape: ', X_val.shape)\n",
    "print('Validacion labels shape: ', y_val.shape)\n",
    "print('Prueba data shape: ', X_test.shape)\n",
    "print('Prueba labels shape: ', y_test.shape)"
   ]
  },
  {
   "cell_type": "code",
   "execution_count": 11,
   "metadata": {
    "_cell_guid": "0679fb2a-62be-415b-9d0c-cd901db6eaf3",
    "_uuid": "e72e7c97da89f05d73af6932e182c82be0c9b00f"
   },
   "outputs": [],
   "source": [
    "# Definicion de Net. Gracias a Sdhivar por funciones.\n",
    "class CifarNet():\n",
    "    def __init__(self):\n",
    "        # conv layer\n",
    "        # H2 = (H1 - F + 2P)/S +1\n",
    "        # (32-5)/1 + 1 = 28\n",
    "        # 28x28x32 = 25088\n",
    "        # To ReLu (?x16x16x32) -> MaxPool (?x16x16x32) -> affine (8192)\n",
    "        self.Wconv1 = tf.get_variable(\"Wconv1\", shape=[5, 5, 3, 32])\n",
    "        self.bconv1 = tf.get_variable(\"bconv1\", shape=[32])\n",
    "        # (32-5)/1 + 1 = 28\n",
    "        # 28x28x64 = 50176\n",
    "        self.Wconv2 = tf.get_variable(\"Wconv2\", shape=[5, 5, 32, 64])\n",
    "        self.bconv2 = tf.get_variable(\"bconv2\", shape=[64])\n",
    "        # affine layer with 1024\n",
    "        self.W1 = tf.get_variable(\"W1\", shape=[3136, 1024])\n",
    "        self.b1 = tf.get_variable(\"b1\", shape=[1024])\n",
    "        # affine layer with 10\n",
    "        self.W2 = tf.get_variable(\"W2\", shape=[1024, 10])\n",
    "        self.b2 = tf.get_variable(\"b2\", shape=[10])        \n",
    "        \n",
    "    def forward(self, X, y, is_training):\n",
    "        # conv2d\n",
    "        # ReLu\n",
    "        # conv2d\n",
    "        # ReLu\n",
    "        # maxpool\n",
    "        # Batch Norm\n",
    "        # Affine\n",
    "        # Batch Norm\n",
    "        # ReLu\n",
    "        # Affine\n",
    "        # dropout\n",
    "        # Batch Norm\n",
    "\n",
    "        # conv layer\n",
    "        # H2 = (H1 - F + 2P)/S +1\n",
    "        # (32-5)/1 + 1 = 28\n",
    "        # 28x28x32 = 25088\n",
    "        # To ReLu (?x16x16x32) -> MaxPool (?x16x16x32) -> affine (8192)\n",
    "\n",
    "        # define our graph (e.g. two_layer_convnet) with stride 1\n",
    "        conv1 = tf.nn.conv2d(X, self.Wconv1, strides=[1, 1, 1, 1], padding='SAME') + self.bconv1\n",
    "        print(conv1.shape)\n",
    "        # ReLU Activation Layer\n",
    "        relu1 = tf.nn.relu(conv1)\n",
    "        print(relu1)\n",
    "        # Conv\n",
    "        conv2 = tf.nn.conv2d(relu1, self.Wconv2, strides=[1, 2, 2, 1], padding='VALID') + self.bconv2\n",
    "        print(conv2.shape)\n",
    "        # ReLU Activation Layer\n",
    "        relu2 = tf.nn.relu(conv2)\n",
    "        print(relu2)\n",
    "        # 2x2 Max Pooling layer with a stride of 2\n",
    "        maxpool = tf.layers.max_pooling2d(relu2, pool_size=(2,2), strides=2)\n",
    "        print(maxpool.shape)\n",
    "        maxpool_flat = tf.reshape(maxpool,[-1,3136])\n",
    "        # Spatial Batch Normalization Layer (trainable parameters, with scale and centering)\n",
    "        bn1 = tf.layers.batch_normalization(inputs=maxpool_flat, center=True, scale=True, training=is_training)\n",
    "        # Affine layer with 1024 output units\n",
    "        affine1 = tf.matmul(bn1, self.W1) + self.b1\n",
    "        print(affine1.shape)\n",
    "        # vanilla batch normalization\n",
    "        affine1_flat = tf.reshape(affine1,[-1,1024])\n",
    "        bn2 = tf.layers.batch_normalization(inputs=affine1, center=True, scale=True, training=is_training)\n",
    "        print(bn2.shape)\n",
    "        # ReLU Activation Layer\n",
    "        relu2 = tf.nn.relu(bn2)\n",
    "        print(relu2.shape)\n",
    "        # dropout\n",
    "        drop1 = tf.layers.dropout(inputs=relu2, training=is_training)\n",
    "        # Affine layer from 1024 input units to 10 outputs\n",
    "        affine2 = tf.matmul(drop1, self.W2) + self.b2\n",
    "        # vanilla batch normalization\n",
    "        affine2_flat = tf.reshape(affine2,[-1,3136])\n",
    "        self.predict = tf.layers.batch_normalization(inputs=affine2, center=True, scale=True, training=is_training)\n",
    "        print(self.predict.shape)\n",
    "        return self.predict\n",
    "    \n",
    "    def run(self, session, loss_val, Xd, yd,\n",
    "                  epochs=1, batch_size=64, print_every=100,\n",
    "                  training=None, plot_losses=False, isSoftMax=False):\n",
    "        # have tensorflow compute accuracy\n",
    "        if isSoftMax:\n",
    "            correct_prediction = tf.nn.softmax(self.predict)\n",
    "        else:\n",
    "            correct_prediction = tf.equal(tf.argmax(self.predict,1), y)\n",
    "        accuracy = tf.reduce_mean(tf.cast(correct_prediction, tf.float32))\n",
    "\n",
    "        # shuffle indicies\n",
    "        train_indicies = np.arange(Xd.shape[0])\n",
    "        np.random.shuffle(train_indicies)\n",
    "\n",
    "        training_now = training is not None\n",
    "\n",
    "        # setting up variables we want to compute (and optimizing)\n",
    "        # if we have a training function, add that to things we compute\n",
    "        variables = [mean_loss, correct_prediction, accuracy]\n",
    "        if training_now:\n",
    "            variables[-1] = training\n",
    "\n",
    "        # counter \n",
    "        iter_cnt = 0\n",
    "        for e in range(epochs):\n",
    "            # keep track of losses and accuracy\n",
    "            correct = 0\n",
    "            losses = []\n",
    "            # make sure we iterate over the dataset once\n",
    "            for i in range(int(math.ceil(Xd.shape[0]/batch_size))):\n",
    "                # generate indicies for the batch\n",
    "                start_idx = (i*batch_size)%Xd.shape[0]\n",
    "                idx = train_indicies[start_idx:start_idx+batch_size]\n",
    "\n",
    "                # create a feed dictionary for this batch\n",
    "                feed_dict = {X: Xd[idx,:],\n",
    "                             y: yd[idx],\n",
    "                             is_training: training_now }\n",
    "                # get batch size\n",
    "                actual_batch_size = yd[idx].shape[0]\n",
    "\n",
    "                # have tensorflow compute loss and correct predictions\n",
    "                # and (if given) perform a training step\n",
    "                loss, corr, _ = session.run(variables,feed_dict=feed_dict)\n",
    "\n",
    "                # aggregate performance stats\n",
    "                losses.append(loss*actual_batch_size)\n",
    "                correct += np.sum(corr)\n",
    "\n",
    "                # print every now and then\n",
    "                if training_now and (iter_cnt % print_every) == 0:\n",
    "                    print(\"Iteration {0}: with minibatch training loss = {1:.3g} and accuracy of {2:.2g}\"\\\n",
    "                          .format(iter_cnt,loss,np.sum(corr)/actual_batch_size))\n",
    "                iter_cnt += 1\n",
    "            total_correct = correct/Xd.shape[0]\n",
    "            total_loss = np.sum(losses)/Xd.shape[0]\n",
    "            print(\"Epoch {2}, Overall loss = {0:.3g} and accuracy of {1:.3g}\"\\\n",
    "                  .format(total_loss,total_correct,e+1))\n",
    "            if plot_losses:\n",
    "                plt.plot(losses)\n",
    "                plt.grid(True)\n",
    "                plt.title('Epoch {} Loss'.format(e+1))\n",
    "                plt.xlabel('minibatch number')\n",
    "                plt.ylabel('minibatch loss')\n",
    "                plt.show()\n",
    "        return total_loss, total_correct"
   ]
  },
  {
   "cell_type": "code",
   "execution_count": 12,
   "metadata": {
    "_cell_guid": "69643b48-526b-4c32-af3e-021d44c54023",
    "_uuid": "53a027e508704650f9350bcae18cd5a9bf78014a"
   },
   "outputs": [
    {
     "name": "stdout",
     "output_type": "stream",
     "text": [
      "WARNING:tensorflow:From E:\\Anaconda\\lib\\site-packages\\tensorflow\\python\\framework\\op_def_library.py:263: colocate_with (from tensorflow.python.framework.ops) is deprecated and will be removed in a future version.\n",
      "Instructions for updating:\n",
      "Colocations handled automatically by placer.\n",
      "(?, 32, 32, 32)\n",
      "Tensor(\"Relu:0\", shape=(?, 32, 32, 32), dtype=float32)\n",
      "(?, 14, 14, 64)\n",
      "Tensor(\"Relu_1:0\", shape=(?, 14, 14, 64), dtype=float32)\n",
      "WARNING:tensorflow:From <ipython-input-11-57f97a0003c0>:55: max_pooling2d (from tensorflow.python.layers.pooling) is deprecated and will be removed in a future version.\n",
      "Instructions for updating:\n",
      "Use keras.layers.max_pooling2d instead.\n",
      "(?, 7, 7, 64)\n",
      "WARNING:tensorflow:From <ipython-input-11-57f97a0003c0>:59: batch_normalization (from tensorflow.python.layers.normalization) is deprecated and will be removed in a future version.\n",
      "Instructions for updating:\n",
      "Use keras.layers.batch_normalization instead.\n",
      "(?, 1024)\n",
      "(?, 1024)\n",
      "(?, 1024)\n",
      "WARNING:tensorflow:From <ipython-input-11-57f97a0003c0>:71: dropout (from tensorflow.python.layers.core) is deprecated and will be removed in a future version.\n",
      "Instructions for updating:\n",
      "Use keras.layers.dropout instead.\n",
      "WARNING:tensorflow:From E:\\Anaconda\\lib\\site-packages\\tensorflow\\python\\keras\\layers\\core.py:143: calling dropout (from tensorflow.python.ops.nn_ops) with keep_prob is deprecated and will be removed in a future version.\n",
      "Instructions for updating:\n",
      "Please use `rate` instead of `keep_prob`. Rate should be set to `rate = 1 - keep_prob`.\n",
      "(?, 10)\n"
     ]
    },
    {
     "data": {
      "text/plain": [
       "<tf.Tensor 'batch_normalization_2/batchnorm/add_1:0' shape=(?, 10) dtype=float32>"
      ]
     },
     "execution_count": 12,
     "metadata": {},
     "output_type": "execute_result"
    }
   ],
   "source": [
    "tf.reset_default_graph()\n",
    "X = tf.placeholder(tf.float32, [None, 32, 32, 3])\n",
    "y = tf.placeholder(tf.int64, [None])\n",
    "is_training = tf.placeholder(tf.bool)\n",
    "\n",
    "net = CifarNet()\n",
    "net.forward(X,y,is_training)"
   ]
  },
  {
   "cell_type": "code",
   "execution_count": 13,
   "metadata": {
    "_cell_guid": "095a98f0-4822-4ed3-b44e-f290cc8b65a9",
    "_uuid": "494f291d11d390c0901ad2c5997be2df1d575381"
   },
   "outputs": [
    {
     "name": "stdout",
     "output_type": "stream",
     "text": [
      "WARNING:tensorflow:From E:\\Anaconda\\lib\\site-packages\\tensorflow\\python\\training\\learning_rate_decay_v2.py:321: div (from tensorflow.python.ops.math_ops) is deprecated and will be removed in a future version.\n",
      "Instructions for updating:\n",
      "Deprecated in favor of operator or tf.math.divide.\n",
      "WARNING:tensorflow:From <ipython-input-13-94b7eb5564d1>:20: softmax_cross_entropy_with_logits (from tensorflow.python.ops.nn_ops) is deprecated and will be removed in a future version.\n",
      "Instructions for updating:\n",
      "\n",
      "Future major versions of TensorFlow will allow gradients to flow\n",
      "into the labels input on backprop by default.\n",
      "\n",
      "See `tf.nn.softmax_cross_entropy_with_logits_v2`.\n",
      "\n",
      "WARNING:tensorflow:From E:\\Anaconda\\lib\\site-packages\\tensorflow\\python\\ops\\math_ops.py:3066: to_int32 (from tensorflow.python.ops.math_ops) is deprecated and will be removed in a future version.\n",
      "Instructions for updating:\n",
      "Use tf.cast instead.\n"
     ]
    }
   ],
   "source": [
    "# Tasa de aprendizje\n",
    "global_step = tf.Variable(0, trainable=False)\n",
    "starter_learning_rate = 1e-3\n",
    "end_learning_rate = 5e-3\n",
    "decay_steps = 10000\n",
    "\n",
    "learning_rate = tf.train.polynomial_decay(starter_learning_rate, global_step,\n",
    "                                          decay_steps, end_learning_rate,\n",
    "                                          power=0.5)\n",
    "\n",
    "exp_learning_rate = tf.train.exponential_decay(starter_learning_rate, global_step,\n",
    "                                               100000, 0.96, staircase=True)\n",
    "\n",
    "\n",
    "mean_loss = None\n",
    "optimizer = None\n",
    "\n",
    "# Definiendo perdida\n",
    "cross_entr_loss = tf.nn.softmax_cross_entropy_with_logits(labels=tf.one_hot(y,10), logits=net.predict)\n",
    "mean_loss = tf.reduce_mean(cross_entr_loss)\n",
    "\n",
    "# Definiendo Optimizacion\n",
    "optimizer = tf.train.AdamOptimizer(exp_learning_rate)\n",
    "\n",
    "\n",
    "# Dependencia requerida por el paquete Tensor Flow\n",
    "extra_update_ops = tf.get_collection(tf.GraphKeys.UPDATE_OPS)\n",
    "with tf.control_dependencies(extra_update_ops):\n",
    "    train_step = optimizer.minimize(mean_loss, global_step=global_step)"
   ]
  },
  {
   "cell_type": "code",
   "execution_count": 15,
   "metadata": {
    "_cell_guid": "d2d71560-1af3-4eed-9ab7-f2e992fdd0f3",
    "_uuid": "d0bc3aca85023f3dfb4883d3205a2fdc78dbff22"
   },
   "outputs": [
    {
     "name": "stdout",
     "output_type": "stream",
     "text": [
      "Training\n",
      "Iteration 0: with minibatch training loss = 2.89 and accuracy of 0.062\n",
      "Iteration 200: with minibatch training loss = 1.37 and accuracy of 0.56\n",
      "Iteration 400: with minibatch training loss = 1.39 and accuracy of 0.52\n",
      "Iteration 600: with minibatch training loss = 1.4 and accuracy of 0.47\n",
      "Epoch 1, Overall loss = 1.34 and accuracy of 0.551\n"
     ]
    },
    {
     "data": {
      "image/png": "[encoded data removed]",
      "text/plain": [
       "<Figure size 432x288 with 1 Axes>"
      ]
     },
     "metadata": {
      "needs_background": "light"
     },
     "output_type": "display_data"
    },
    {
     "name": "stdout",
     "output_type": "stream",
     "text": [
      "Validation\n",
      "Epoch 1, Overall loss = 1.03 and accuracy of 0.647\n"
     ]
    }
   ],
   "source": [
    "# Entrenando con 1 epoch. Lamentablemente CUDA no me funciona. \n",
    "sess = tf.Session()\n",
    "\n",
    "try:\n",
    "    with tf.device(\"/cpu:0\") as dev:\n",
    "        sess.run(tf.global_variables_initializer())\n",
    "        print('Entrenamiento')\n",
    "        net.run(sess, mean_loss, X_train, y_train, 1, 64, 200, train_step, True)\n",
    "        print('Validacion')\n",
    "        net.run(sess, mean_loss, X_val, y_val, 1, 64)\n",
    "except tf.errors.InvalidArgumentError:\n",
    "    print(\"Ningun GPU encontrado found, por favor use Google Cloud (Modulo 10) para GPU-acceleration\") "
   ]
  },
  {
   "cell_type": "code",
   "execution_count": 20,
   "metadata": {
    "_cell_guid": "cc907e4d-0ed7-4fdc-a726-cec27800948d",
    "_uuid": "fffadbfd91162500d980cd79d636e06ccc0cd3a6"
   },
   "outputs": [
    {
     "name": "stdout",
     "output_type": "stream",
     "text": [
      "Entrenamiento\n",
      "Epoch 1, Overall loss = 0.967 and accuracy of 0.684\n",
      "Validacion\n",
      "Epoch 1, Overall loss = 1.03 and accuracy of 0.647\n"
     ]
    },
    {
     "data": {
      "text/plain": [
       "(1.0323377666473388, 0.647)"
      ]
     },
     "execution_count": 20,
     "metadata": {},
     "output_type": "execute_result"
    }
   ],
   "source": [
    "# Print resultados del modelos en el conjunto de Entrenamiento y Validacion\n",
    "print('Entrenamiento')\n",
    "net.run(sess, mean_loss, X_train, y_train, 1, 64)\n",
    "print('Validacion')\n",
    "net.run(sess, mean_loss, X_val, y_val, 1, 64)"
   ]
  },
  {
   "cell_type": "code",
   "execution_count": 21,
   "metadata": {
    "_cell_guid": "49fe1733-ec19-4919-a76f-b4260a114cd0",
    "_uuid": "685c202406f21105eb173eb92f4cc22dbe7c476f"
   },
   "outputs": [
    {
     "name": "stdout",
     "output_type": "stream",
     "text": [
      "Prueba\n",
      "Epoch 1, Overall loss = 1.05 and accuracy of 0.649\n"
     ]
    },
    {
     "data": {
      "text/plain": [
       "(1.0511324071884156, 0.6489)"
      ]
     },
     "execution_count": 21,
     "metadata": {},
     "output_type": "execute_result"
    }
   ],
   "source": [
    "# Verificacion de resultados sobre Prueba\n",
    "print('Prueba')\n",
    "net.run(sess, mean_loss, X_test, y_test, 1, 64)"
   ]
  },
  {
   "cell_type": "code",
   "execution_count": 22,
   "metadata": {
    "_cell_guid": "3bfa901e-67d1-4ca9-aa90-bc4ff6fdc0ff",
    "_uuid": "e242183c55e18297d3ba816bad22a2cc09190b62"
   },
   "outputs": [],
   "source": [
    "# Creo un feed dictionary de esta seleccion\n",
    "feed_dict = {X: X_test,\n",
    "             y: y_test,\n",
    "             is_training: False}\n",
    "\n",
    "# Predict\n",
    "predict = sess.run(tf.nn.softmax(net.predict), feed_dict=feed_dict)\n",
    "predict_df = pd.DataFrame(predict, columns=classes)"
   ]
  },
  {
   "cell_type": "code",
   "execution_count": 23,
   "metadata": {
    "_cell_guid": "f121fa99-bbc8-4e7d-aa06-41e712d781cb",
    "_uuid": "f28553b32154ae1186e7e050dbf308da4630e2af"
   },
   "outputs": [
    {
     "data": {
      "text/html": [
       "<div>\n",
       "<style scoped>\n",
       "    .dataframe tbody tr th:only-of-type {\n",
       "        vertical-align: middle;\n",
       "    }\n",
       "\n",
       "    .dataframe tbody tr th {\n",
       "        vertical-align: top;\n",
       "    }\n",
       "\n",
       "    .dataframe thead th {\n",
       "        text-align: right;\n",
       "    }\n",
       "</style>\n",
       "<table border=\"1\" class=\"dataframe\">\n",
       "  <thead>\n",
       "    <tr style=\"text-align: right;\">\n",
       "      <th></th>\n",
       "      <th>plane</th>\n",
       "      <th>car</th>\n",
       "      <th>bird</th>\n",
       "      <th>cat</th>\n",
       "      <th>deer</th>\n",
       "      <th>dog</th>\n",
       "      <th>frog</th>\n",
       "      <th>horse</th>\n",
       "      <th>ship</th>\n",
       "      <th>truck</th>\n",
       "    </tr>\n",
       "  </thead>\n",
       "  <tbody>\n",
       "    <tr>\n",
       "      <th>0</th>\n",
       "      <td>0.014029</td>\n",
       "      <td>0.014902</td>\n",
       "      <td>0.014955</td>\n",
       "      <td>0.480007</td>\n",
       "      <td>0.009469</td>\n",
       "      <td>0.383314</td>\n",
       "      <td>0.032317</td>\n",
       "      <td>0.009314</td>\n",
       "      <td>0.033512</td>\n",
       "      <td>0.008180</td>\n",
       "    </tr>\n",
       "    <tr>\n",
       "      <th>1</th>\n",
       "      <td>0.132095</td>\n",
       "      <td>0.450547</td>\n",
       "      <td>0.001972</td>\n",
       "      <td>0.002408</td>\n",
       "      <td>0.003469</td>\n",
       "      <td>0.003714</td>\n",
       "      <td>0.005547</td>\n",
       "      <td>0.003530</td>\n",
       "      <td>0.362595</td>\n",
       "      <td>0.034123</td>\n",
       "    </tr>\n",
       "    <tr>\n",
       "      <th>2</th>\n",
       "      <td>0.110436</td>\n",
       "      <td>0.068013</td>\n",
       "      <td>0.011058</td>\n",
       "      <td>0.034592</td>\n",
       "      <td>0.019318</td>\n",
       "      <td>0.016467</td>\n",
       "      <td>0.018281</td>\n",
       "      <td>0.019799</td>\n",
       "      <td>0.653588</td>\n",
       "      <td>0.048447</td>\n",
       "    </tr>\n",
       "    <tr>\n",
       "      <th>3</th>\n",
       "      <td>0.520206</td>\n",
       "      <td>0.030060</td>\n",
       "      <td>0.019295</td>\n",
       "      <td>0.010243</td>\n",
       "      <td>0.010837</td>\n",
       "      <td>0.003667</td>\n",
       "      <td>0.016792</td>\n",
       "      <td>0.007106</td>\n",
       "      <td>0.375815</td>\n",
       "      <td>0.005979</td>\n",
       "    </tr>\n",
       "    <tr>\n",
       "      <th>4</th>\n",
       "      <td>0.002826</td>\n",
       "      <td>0.004904</td>\n",
       "      <td>0.023619</td>\n",
       "      <td>0.108189</td>\n",
       "      <td>0.284808</td>\n",
       "      <td>0.035092</td>\n",
       "      <td>0.525668</td>\n",
       "      <td>0.001124</td>\n",
       "      <td>0.009556</td>\n",
       "      <td>0.004214</td>\n",
       "    </tr>\n",
       "  </tbody>\n",
       "</table>\n",
       "</div>"
      ],
      "text/plain": [
       "      plane       car      bird       cat      deer       dog      frog  \\\n",
       "0  0.014029  0.014902  0.014955  0.480007  0.009469  0.383314  0.032317   \n",
       "1  0.132095  0.450547  0.001972  0.002408  0.003469  0.003714  0.005547   \n",
       "2  0.110436  0.068013  0.011058  0.034592  0.019318  0.016467  0.018281   \n",
       "3  0.520206  0.030060  0.019295  0.010243  0.010837  0.003667  0.016792   \n",
       "4  0.002826  0.004904  0.023619  0.108189  0.284808  0.035092  0.525668   \n",
       "\n",
       "      horse      ship     truck  \n",
       "0  0.009314  0.033512  0.008180  \n",
       "1  0.003530  0.362595  0.034123  \n",
       "2  0.019799  0.653588  0.048447  \n",
       "3  0.007106  0.375815  0.005979  \n",
       "4  0.001124  0.009556  0.004214  "
      ]
     },
     "execution_count": 23,
     "metadata": {},
     "output_type": "execute_result"
    }
   ],
   "source": [
    "predict_df.head()"
   ]
  },
  {
   "cell_type": "code",
   "execution_count": null,
   "metadata": {},
   "outputs": [],
   "source": []
  }
 ],
 "metadata": {
  "kernelspec": {
   "display_name": "Python 3",
   "language": "python",
   "name": "python3"
  },
  "language_info": {
   "codemirror_mode": {
    "name": "ipython",
    "version": 3
   },
   "file_extension": ".py",
   "mimetype": "text/x-python",
   "name": "python",
   "nbconvert_exporter": "python",
   "pygments_lexer": "ipython3",
   "version": "3.7.3"
  }
 },
 "nbformat": 4,
 "nbformat_minor": 1
}
